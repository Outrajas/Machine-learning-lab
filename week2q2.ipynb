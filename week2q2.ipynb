{
 "cells": [
  {
   "cell_type": "code",
   "execution_count": 1,
   "id": "0065f2ca",
   "metadata": {},
   "outputs": [
    {
     "name": "stdout",
     "output_type": "stream",
     "text": [
      "Column names: Index(['unnamed: 0', 'crim', 'zn', 'indus', 'chas', 'nox', 'rm', 'age', 'dis',\n",
      "       'rad', 'tax', 'ptratio', 'black', 'lstat', 'medv'],\n",
      "      dtype='object')\n",
      "Top 5 features based on correlation with medv:\n",
      "lstat      0.737663\n",
      "rm         0.695360\n",
      "ptratio    0.507787\n",
      "indus      0.483725\n",
      "tax        0.468536\n",
      "Name: medv, dtype: float64\n",
      "RMSE: 5.207202455789536\n",
      "R²: 0.6302528487272827\n"
     ]
    }
   ],
   "source": [
    "import pandas as pd\n",
    "from sklearn.linear_model import LinearRegression\n",
    "from sklearn.model_selection import train_test_split\n",
    "from sklearn.metrics import mean_squared_error, r2_score\n",
    "\n",
    "\n",
    "filename = r'C:\\Users\\maths\\Downloads\\Boston (1).csv'  \n",
    "\n",
    "\n",
    "data.columns = data.columns.str.strip().str.lower()\n",
    "\n",
    "\n",
    "print(\"Column names:\", data.columns)\n",
    "\n",
    "\n",
    "correlation_matrix = data.corr()  \n",
    "if 'medv' not in correlation_matrix.columns:\n",
    "    print(\"Error: 'medv' column not found in the dataset.\")\n",
    "else:\n",
    "    correlations_with_target = correlation_matrix['medv'].drop('medv')  \n",
    "    top_5_features = correlations_with_target.abs().sort_values(ascending=False).head(5)\n",
    "    print(\"Top 5 features based on correlation with medv:\")\n",
    "    print(top_5_features)\n",
    "\n",
    "   \n",
    "    top_3_features = top_5_features.index[:3]\n",
    "    X = data[top_3_features]  \n",
    "    y = data['medv'] \n",
    "\n",
    "    \n",
    "    X_train, X_test, y_train, y_test = train_test_split(X, y, test_size=0.2, random_state=42)\n",
    "\n",
    "   \n",
    "    model = LinearRegression()\n",
    "    model.fit(X_train, y_train)\n",
    "\n",
    "  \n",
    "    y_pred = model.predict(X_test)\n",
    "\n",
    "  ²\n",
    "    rmse = mean_squared_error(y_test, y_pred, squared=False)\n",
    "    r2 = r2_score(y_test, y_pred)  \n",
    "    print(f\"RMSE: {rmse}\")\n",
    "    print(f\"R²: {r2}\")\n"
   ]
  },
  {
   "cell_type": "code",
   "execution_count": null,
   "id": "e0792ee5",
   "metadata": {},
   "outputs": [],
   "source": []
  }
 ],
 "metadata": {
  "kernelspec": {
   "display_name": "Python 3 (ipykernel)",
   "language": "python",
   "name": "python3"
  },
  "language_info": {
   "codemirror_mode": {
    "name": "ipython",
    "version": 3
   },
   "file_extension": ".py",
   "mimetype": "text/x-python",
   "name": "python",
   "nbconvert_exporter": "python",
   "pygments_lexer": "ipython3",
   "version": "3.9.13"
  }
 },
 "nbformat": 4,
 "nbformat_minor": 5
}
