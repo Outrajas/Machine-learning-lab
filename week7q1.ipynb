{
 "cells": [
  {
   "cell_type": "code",
   "execution_count": null,
   "id": "38c2863d",
   "metadata": {},
   "outputs": [
    {
     "name": "stdout",
     "output_type": "stream",
     "text": [
      "Best parameters for the Decision Tree: {'criterion': 'gini', 'max_depth': 3}\n",
      "ROC AUC Score: 0.7630123812958289\n",
      "Model Performance Summary:\n",
      "               precision    recall  f1-score   support\n",
      "\n",
      "           0       0.80      0.89      0.84       141\n",
      "           1       0.64      0.47      0.54        59\n",
      "\n",
      "    accuracy                           0.77       200\n",
      "   macro avg       0.72      0.68      0.69       200\n",
      "weighted avg       0.75      0.77      0.75       200\n",
      "\n"
     ]
    }
   ],
   "source": [
    "# Import necessary libraries\n",
    "import os\n",
    "import pandas as pd\n",
    "import numpy as np\n",
    "import matplotlib.pyplot as plt\n",
    "import graphviz\n",
    "from sklearn.tree import DecisionTreeClassifier, export_text, export_graphviz\n",
    "from sklearn.model_selection import train_test_split, GridSearchCV\n",
    "from sklearn.metrics import classification_report, roc_auc_score\n",
    "\n",
    "# Set Graphviz Path Manually (If No Admin Access)\n",
    "os.environ[\"PATH\"] += os.pathsep + r\"C:\\Users\\maths\\Downloads\\windows_10_cmake_Release_Graphviz-12.2.1-win64\\Graphviz-12.2.1-win64\\bin\"\n",
    "\n",
    "# Step 1: Load dataset\n",
    "data = pd.read_csv(\"German Credit Data (1).csv\")\n",
    "\n",
    "# Step 2: Convert categorical data into numeric format\n",
    "data = data.apply(lambda col: col.astype('category').cat.codes if col.dtype == 'object' else col)\n",
    "\n",
    "# Step 3: Define features and target variable\n",
    "target_col = \"status\"\n",
    "X = data.drop(columns=[target_col])\n",
    "y = data[target_col]\n",
    "\n",
    "# Step 4: Split the dataset into training and testing sets\n",
    "X_train, X_test, y_train, y_test = train_test_split(X, y, test_size=0.2, random_state=42)\n",
    "\n",
    "# Step 5: Train Decision Tree with Hyperparameter Tuning\n",
    "param_grid = {'criterion': ['gini', 'entropy'], 'max_depth': np.arange(2, 11)}\n",
    "grid_search = GridSearchCV(DecisionTreeClassifier(), param_grid, scoring='roc_auc', cv=10)\n",
    "grid_search.fit(X_train, y_train)\n",
    "\n",
    "# Step 6: Extract the best model\n",
    "best_tree = grid_search.best_estimator_\n",
    "print(\"Best parameters for the Decision Tree:\", grid_search.best_params_)\n",
    "\n",
    "# Step 7: Evaluate Model Performance\n",
    "y_pred = best_tree.predict(X_test)\n",
    "y_prob = best_tree.predict_proba(X_test)[:, 1]\n",
    "print(\"ROC AUC Score:\", roc_auc_score(y_test, y_prob))\n",
    "print(\"Model Performance Summary:\\n\", classification_report(y_test, y_pred))\n",
    "\n",
    "# Step 8: Visualizing the Decision Tree\n",
    "dot_data = export_graphviz(\n",
    "    best_tree, filled=True, rounded=True, feature_names=X.columns, class_names=[str(cls) for cls in best_tree.classes_]\n",
    ")\n",
    "graph = graphviz.Source(dot_data)\n",
    "display(graph)  # Display the tree in Jupyter Notebook\n",
    "\n",
    "# Save the visualization as a PDF file\n",
    "graph.render(\"decision_tree\")\n",
    "print(\"Decision Tree saved as 'decision_tree.pdf'. Open it to view.\")\n",
    "\n",
    "# Step 9: Print Decision Tree Rules\n",
    "tree_rules = export_text(best_tree, feature_names=list(X.columns))\n",
    "print(\"Decision Tree Rules:\\n\", tree_rules)\n"
   ]
  },
  {
   "cell_type": "code",
   "execution_count": null,
   "id": "59545cdd",
   "metadata": {},
   "outputs": [],
   "source": []
  },
  {
   "cell_type": "code",
   "execution_count": null,
   "id": "7323199f",
   "metadata": {},
   "outputs": [],
   "source": []
  }
 ],
 "metadata": {
  "kernelspec": {
   "display_name": "Python 3 (ipykernel)",
   "language": "python",
   "name": "python3"
  },
  "language_info": {
   "codemirror_mode": {
    "name": "ipython",
    "version": 3
   },
   "file_extension": ".py",
   "mimetype": "text/x-python",
   "name": "python",
   "nbconvert_exporter": "python",
   "pygments_lexer": "ipython3",
   "version": "3.9.13"
  }
 },
 "nbformat": 4,
 "nbformat_minor": 5
}
