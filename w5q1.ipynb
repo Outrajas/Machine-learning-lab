{
 "cells": [
  {
   "cell_type": "code",
   "execution_count": null,
   "id": "0e67cd00",
   "metadata": {},
   "outputs": [
    {
     "name": "stdout",
     "output_type": "stream",
     "text": [
      "\n",
      "===== VIF Before Feature Engineering =====\n",
      "            Feature         VIF\n",
      "0          MinTemp   60.939279\n",
      "1          MaxTemp  621.691511\n",
      "2         Rainfall    1.632953\n",
      "3      Evaporation    7.388729\n",
      "4         Sunshine   17.533825\n",
      "..             ...         ...\n",
      "57   WindDir3pm_SW    2.711793\n",
      "58    WindDir3pm_W    2.703251\n",
      "59  WindDir3pm_WNW    2.377855\n",
      "60  WindDir3pm_WSW    2.625586\n",
      "61   RainToday_Yes    2.244707\n",
      "\n",
      "[62 rows x 2 columns]\n"
     ]
    }
   ],
   "source": [
    "import pandas as pd\n",
    "import numpy as np\n",
    "import statsmodels.api as sm\n",
    "from sklearn.model_selection import train_test_split\n",
    "from sklearn.linear_model import LinearRegression\n",
    "from sklearn.metrics import r2_score, mean_squared_error\n",
    "from statsmodels.stats.outliers_influence import variance_inflation_factor\n",
    "from sklearn.feature_selection import RFE\n",
    "\n",
    "# [1] Load dataset\n",
    "df = pd.read_csv(\"C:\\\\Users\\\\maths\\\\Downloads\\\\weatherAUS.csv\")\n",
    "\n",
    "# [2] Drop irrelevant columns (like date, location, and target leakage feature 'RISK_MM')\n",
    "drop_columns = [\"Date\", \"Location\", \"RISK_MM\"]\n",
    "df.drop(columns=drop_columns, inplace=True)\n",
    "\n",
    "# [3] Remove rows with missing values\n",
    "df.dropna(inplace=True)\n",
    "\n",
    "# [4] Convert categorical columns into numeric (RainToday, RainTomorrow)\n",
    "df = pd.get_dummies(df, drop_first=True)\n",
    "\n",
    "# [5] Define features (X) and target variable (y)\n",
    "X = df.drop(columns=['RainTomorrow_Yes'])\n",
    "y = df['RainTomorrow_Yes']\n",
    "\n",
    "# [6] Function to compute VIF for multicollinearity check\n",
    "def calculate_vif(X):\n",
    "    vif_data = pd.DataFrame()\n",
    "    vif_data[\"Feature\"] = X.columns\n",
    "    vif_data[\"VIF\"] = [variance_inflation_factor(X.values, i) for i in range(X.shape[1])]\n",
    "    return vif_data\n",
    "\n",
    "# [7] Compute VIF before feature engineering\n",
    "vif_before = calculate_vif(X)\n",
    "print(\"\\n===== VIF Before Feature Engineering =====\\n\", vif_before)\n",
    "\n",
    "# [8] Drop features where VIF is extremely high (>10) or infinite\n",
    "high_vif_features = vif_before[vif_before[\"VIF\"] > 10][\"Feature\"].tolist()\n",
    "X.drop(columns=high_vif_features, inplace=True)\n",
    "\n",
    "# [9] Compute VIF after dropping high VIF features\n",
    "vif_after = calculate_vif(X)\n",
    "print(\"\\n===== VIF After Feature Engineering =====\\n\", vif_after)\n",
    "\n",
    "# [10] Train-Test Split (80-20)\n",
    "X_train, X_test, y_train, y_test = train_test_split(X, y, test_size=0.2, random_state=42)\n",
    "\n",
    "# [11] Recursive Feature Elimination (RFE) to select the best features\n",
    "lin_reg = LinearRegression()\n",
    "rfe = RFE(lin_reg, n_features_to_select=10)  # Keep top 10 features\n",
    "X_train_rfe = rfe.fit_transform(X_train, y_train)\n",
    "X_test_rfe = rfe.transform(X_test)\n",
    "\n",
    "# [12] Train regression model with best-selected features\n",
    "lin_reg.fit(X_train_rfe, y_train)\n",
    "y_pred = lin_reg.predict(X_test_rfe)\n",
    "\n",
    "# [13] Evaluate Regression Model\n",
    "print(\"\\n===== Regression After Feature Selection =====\")\n",
    "print(f\"R² Score: {r2_score(y_test, y_pred):.4f}\")\n",
    "print(f\"RMSE: {np.sqrt(mean_squared_error(y_test, y_pred)):.4f}\")\n"
   ]
  },
  {
   "cell_type": "code",
   "execution_count": null,
   "id": "b2f9820c",
   "metadata": {},
   "outputs": [],
   "source": []
  },
  {
   "cell_type": "code",
   "execution_count": null,
   "id": "a432917f",
   "metadata": {},
   "outputs": [],
   "source": []
  },
  {
   "cell_type": "code",
   "execution_count": null,
   "id": "da90cc98",
   "metadata": {},
   "outputs": [],
   "source": []
  },
  {
   "cell_type": "code",
   "execution_count": null,
   "id": "677bca0a",
   "metadata": {},
   "outputs": [],
   "source": []
  },
  {
   "cell_type": "code",
   "execution_count": null,
   "id": "31dca906",
   "metadata": {},
   "outputs": [],
   "source": []
  },
  {
   "cell_type": "code",
   "execution_count": null,
   "id": "8d32e9f8",
   "metadata": {},
   "outputs": [],
   "source": []
  },
  {
   "cell_type": "code",
   "execution_count": null,
   "id": "d386a97f",
   "metadata": {},
   "outputs": [],
   "source": []
  }
 ],
 "metadata": {
  "kernelspec": {
   "display_name": "Python 3 (ipykernel)",
   "language": "python",
   "name": "python3"
  },
  "language_info": {
   "codemirror_mode": {
    "name": "ipython",
    "version": 3
   },
   "file_extension": ".py",
   "mimetype": "text/x-python",
   "name": "python",
   "nbconvert_exporter": "python",
   "pygments_lexer": "ipython3",
   "version": "3.9.13"
  }
 },
 "nbformat": 4,
 "nbformat_minor": 5
}
